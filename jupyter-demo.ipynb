{
 "cells": [
  {
   "cell_type": "markdown",
   "id": "058ef350-3fd0-4c9b-8181-90bfdca3f65c",
   "metadata": {},
   "source": [
    "# Title\n",
    "## subtitle"
   ]
  },
  {
   "cell_type": "code",
   "execution_count": null,
   "id": "e4c26102-7eaa-48af-a346-ad491b3a4a7c",
   "metadata": {},
   "outputs": [],
   "source": [
    "import pandas as pd"
   ]
  },
  {
   "cell_type": "markdown",
   "id": "41cfedfd-9ad7-4dd6-934a-d63215a34609",
   "metadata": {},
   "source": [
    "## Second level heading\n",
    "\n",
    "This cell contains simple\n",
    "[markdown](https://daringfireball.net/projects/markdown/syntax), a simple language for writing text that can be automatically converted to other formats, e.g. HTML, LaTeX or any of a number of others.\n",
    "\n",
    "**Bold**, *italics*, **_combined_**, ~~strikethrough~~, `inline code`.\n",
    "\n",
    "* bullet points\n",
    "\n",
    "or\n",
    "\n",
    "1. numbered\n",
    "3. lists\n",
    "\n",
    "**Equations:**\n",
    "inline $e^{i\\pi} + 1 = 0$\n",
    "or on new line\n",
    "$$e^{i\\pi} + 1 = 0$$\n",
    "\n",
    "Images:\n",
    "\n",
    "![Jupyter logo](https://jupyter.org/assets/homepage/main-logo.svg)\n",
    "\n",
    "Links:\n",
    "[One of many markdown cheat-sheets](https://github.com/adam-p/markdown-here/wiki/Markdown-Cheatsheet#emphasis)"
   ]
  },
  {
   "cell_type": "code",
   "execution_count": 3,
   "id": "37ef00fe-1f7f-4ca7-b0ad-0a89d44a5882",
   "metadata": {},
   "outputs": [
    {
     "name": "stdout",
     "output_type": "stream",
     "text": [
      "hello world\n"
     ]
    }
   ],
   "source": [
    "# a code cell can run statements of code.\n",
    "# when you run this cell, the output is sent\n",
    "# from the web page to a back-end process, run\n",
    "# and the results are displayed to you\n",
    "print(\"hello world\")"
   ]
  },
  {
   "cell_type": "code",
   "execution_count": null,
   "id": "5bd28a10-586d-41f7-b582-4a9a1fa127c8",
   "metadata": {},
   "outputs": [],
   "source": []
  }
 ],
 "metadata": {
  "kernelspec": {
   "display_name": "Python 3 (ipykernel)",
   "language": "python",
   "name": "python3"
  },
  "language_info": {
   "codemirror_mode": {
    "name": "ipython",
    "version": 3
   },
   "file_extension": ".py",
   "mimetype": "text/x-python",
   "name": "python",
   "nbconvert_exporter": "python",
   "pygments_lexer": "ipython3",
   "version": "3.12.2"
  }
 },
 "nbformat": 4,
 "nbformat_minor": 5
}
