{
 "cells": [
  {
   "cell_type": "code",
   "execution_count": 1,
   "id": "179d7f85-27ea-4ee8-bd79-f52588d2111c",
   "metadata": {},
   "outputs": [],
   "source": [
    "from ipywidgets import interact"
   ]
  },
  {
   "cell_type": "code",
   "execution_count": 3,
   "id": "966f2ee5-1921-4b85-90b7-d146587476e4",
   "metadata": {},
   "outputs": [
    {
     "data": {
      "application/vnd.jupyter.widget-view+json": {
       "model_id": "a04cc595cd514703bcb5c19295f812d8",
       "version_major": 2,
       "version_minor": 0
      },
      "text/plain": [
       "interactive(children=(Checkbox(value=True, description='x'), FloatSlider(value=1.0, description='y', max=3.0, …"
      ]
     },
     "metadata": {},
     "output_type": "display_data"
    }
   ],
   "source": [
    "def f(x, y, s):\n",
    "    return (x, y, s)\n",
    "\n",
    "interact(f, x=True, y=1.0, s=\"Hello\");"
   ]
  },
  {
   "cell_type": "code",
   "execution_count": 4,
   "id": "17b2d8fe-3682-451f-b96e-9a694ae579d4",
   "metadata": {},
   "outputs": [
    {
     "data": {
      "application/vnd.jupyter.widget-view+json": {
       "model_id": "cec4936e5c2544809d7680035c7cb8d1",
       "version_major": 2,
       "version_minor": 0
      },
      "text/plain": [
       "interactive(children=(Checkbox(value=True, description='x'), FloatSlider(value=1.0, description='y', max=3.0, …"
      ]
     },
     "metadata": {},
     "output_type": "display_data"
    }
   ],
   "source": [
    "@interact(x=True, y=1.0, s=\"Hello\")\n",
    "def g(x, y, s):\n",
    "    return (x, y, s)"
   ]
  },
  {
   "cell_type": "code",
   "execution_count": null,
   "id": "e5c6f1c7-1832-4e04-bb40-5e8782a040db",
   "metadata": {},
   "outputs": [],
   "source": []
  }
 ],
 "metadata": {
  "kernelspec": {
   "display_name": "Python 3 (ipykernel)",
   "language": "python",
   "name": "python3"
  },
  "language_info": {
   "codemirror_mode": {
    "name": "ipython",
    "version": 3
   },
   "file_extension": ".py",
   "mimetype": "text/x-python",
   "name": "python",
   "nbconvert_exporter": "python",
   "pygments_lexer": "ipython3",
   "version": "3.12.2"
  }
 },
 "nbformat": 4,
 "nbformat_minor": 5
}
